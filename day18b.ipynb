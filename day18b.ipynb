{
 "cells": [
  {
   "cell_type": "code",
   "execution_count": 169,
   "metadata": {},
   "outputs": [],
   "source": [
    "## ADVENT OF CODE 2022, Day 18\n",
    "## Edmund Dickinson, Python implementation\n",
    "\n",
    "# File read\n",
    "input_folder = \"Input/\"\n",
    "input_file = \"day18a.txt\"\n",
    "file_path = input_folder + input_file\n",
    "\n",
    "with open(file_path) as file:\n",
    "    input = file.read().splitlines()"
   ]
  },
  {
   "cell_type": "code",
   "execution_count": 170,
   "metadata": {},
   "outputs": [],
   "source": [
    "droplet_lst = []\n",
    "for line in input:\n",
    "    droplet_lst.append(tuple([int(i) for i in line.split(\",\")]))\n",
    "\n",
    "droplet = set(droplet_lst)"
   ]
  },
  {
   "cell_type": "code",
   "execution_count": 171,
   "metadata": {},
   "outputs": [],
   "source": [
    "def connectedFaces(block,droplet):\n",
    "    # block - coordinates of block\n",
    "    # droplet - list of coordinates of blocks already present\n",
    "    xb,yb,zb = block\n",
    "    connected = 0\n",
    "\n",
    "    for sub in droplet:\n",
    "        # Compare to each block already present\n",
    "        # Shares a face if aligned with the block in a cardinal direction\n",
    "        xs,ys,zs = sub\n",
    "\n",
    "        if(\n",
    "            (abs(xs-xb) == 1 and ys == yb and zs == zb)\n",
    "            or\n",
    "            (abs(ys-yb) == 1 and xs == xb and zs == zb)\n",
    "            or\n",
    "            (abs(zs-zb) == 1 and xs == xb and ys == yb)\n",
    "        ):\n",
    "            connected += 1\n",
    "\n",
    "    return connected\n",
    "\n",
    "def getSurfaceArea(blocks):\n",
    "    droplet = []\n",
    "    num_faces = 0\n",
    "\n",
    "    # Note(ED): Does sorting guarantee connectivity..?\n",
    "    for block in sorted(blocks):\n",
    "        num_faces += 6 - 2*connectedFaces(block,droplet)\n",
    "        droplet.append(block)       \n",
    "\n",
    "    return num_faces\n",
    "\n",
    "def getNeighbours(coord, droplet):\n",
    "    # Return cardinal neighbours of coord that are not in droplet\n",
    "    x,y,z = coord\n",
    "    neighbours = set([\n",
    "        (x+1,y,z),\n",
    "        (x-1,y,z),\n",
    "        (x,y+1,z),\n",
    "        (x,y-1,z),\n",
    "        (x,y,z+1),\n",
    "        (x,y,z-1)\n",
    "    ])\n",
    "\n",
    "    return neighbours.difference(droplet)"
   ]
  },
  {
   "cell_type": "code",
   "execution_count": 172,
   "metadata": {},
   "outputs": [
    {
     "name": "stdout",
     "output_type": "stream",
     "text": [
      "3586\n"
     ]
    }
   ],
   "source": [
    "# Determine total surface area\n",
    "surface_area_tot = getSurfaceArea(droplet)\n",
    "print( surface_area_tot )"
   ]
  },
  {
   "cell_type": "code",
   "execution_count": 173,
   "metadata": {},
   "outputs": [
    {
     "name": "stdout",
     "output_type": "stream",
     "text": [
      "2072\n"
     ]
    }
   ],
   "source": [
    "# Determine external surface area only\n",
    "\n",
    "# Determine the cube of space surrounding the droplet\n",
    "# Note(ED): could presumably be done with min() max() functions?\n",
    "xmin = 0\n",
    "xmax = 0\n",
    "ymin = 0\n",
    "ymax = 0\n",
    "zmin = 0\n",
    "zmax = 0\n",
    "\n",
    "for block in droplet:\n",
    "    x,y,z = block\n",
    "\n",
    "    if (x < xmin):\n",
    "        xmin = x\n",
    "    if (x > xmax):\n",
    "        xmax = x\n",
    "    if (y < ymin):\n",
    "        ymin = y\n",
    "    if (y > ymax):\n",
    "        ymax = y\n",
    "    if (z < zmin):\n",
    "        zmin = z\n",
    "    if (z > zmax):\n",
    "        zmax = z\n",
    "\n",
    "# Search zone is all blocks surrounding the 3D bounds of the droplet\n",
    "zone = set()\n",
    "distance = {}\n",
    "for x in range(xmin-1,xmax+2):\n",
    "    for y in range(ymin-1,ymax+2):\n",
    "        for z in range(zmin-1,zmax+2):\n",
    "            coord = x,y,z\n",
    "            \n",
    "            zone.add(coord)\n",
    "            distance[coord] = -1\n",
    "\n",
    "# List of coordinates of external blocks\n",
    "block_extern = set()\n",
    "\n",
    "# Start from a definitely external location\n",
    "loc_init = (xmin-1,ymin-1,zmin-1)\n",
    "block_extern.add(loc_init)\n",
    "distance[loc_init] = 0\n",
    "currDistance = 0\n",
    "\n",
    "# Propagate outwards through connected external blocks, until opposite end of zone is reached\n",
    "while ( not((xmax+1,ymax+1,zmax+1) in block_extern) ):\n",
    "    source = [coord for coord in zone if distance[coord] == currDistance]\n",
    "    currDistance += 1\n",
    "\n",
    "    for coord in source:\n",
    "        for dest in getNeighbours(coord, droplet):\n",
    "            if ((dest in zone) and (distance[dest] == -1)):\n",
    "                # Not yet visited\n",
    "                distance[dest] = currDistance\n",
    "                block_extern.add(dest)\n",
    "\n",
    "# Evaluate the filled droplet as the complement of the external blocks\n",
    "droplet_filled = zone.difference(block_extern)\n",
    "\n",
    "# Evaluate the interior void as (zone - external - droplet)\n",
    "# Surface area calculation assumes that the void is connected - seems to work\n",
    "void = zone.difference(block_extern).difference(droplet)\n",
    "surface_area_ext = surface_area_tot - getSurfaceArea(void)\n",
    "\n",
    "# External surface area is surface area of the filled droplet\n",
    "print ( surface_area_ext )"
   ]
  }
 ],
 "metadata": {
  "kernelspec": {
   "display_name": "Python 3.9.13 ('base')",
   "language": "python",
   "name": "python3"
  },
  "language_info": {
   "codemirror_mode": {
    "name": "ipython",
    "version": 3
   },
   "file_extension": ".py",
   "mimetype": "text/x-python",
   "name": "python",
   "nbconvert_exporter": "python",
   "pygments_lexer": "ipython3",
   "version": "3.9.13 (main, Aug 25 2022, 23:51:50) [MSC v.1916 64 bit (AMD64)]"
  },
  "orig_nbformat": 4,
  "vscode": {
   "interpreter": {
    "hash": "f65f94cd6d5e6e785f67f03b9c7364952b2259c12c87232b753fe81c04fd2d32"
   }
  }
 },
 "nbformat": 4,
 "nbformat_minor": 2
}
