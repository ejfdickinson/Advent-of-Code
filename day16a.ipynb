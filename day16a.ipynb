{
 "cells": [
  {
   "cell_type": "code",
   "execution_count": 78,
   "metadata": {},
   "outputs": [],
   "source": [
    "## ADVENT OF CODE 2022, Day 16\n",
    "## Edmund Dickinson, Python implementation\n",
    "\n",
    "# File read\n",
    "input_folder = \"Input/\"\n",
    "input_file = \"day16_test.txt\"\n",
    "file_path = input_folder + input_file\n",
    "\n",
    "with open(file_path) as file:\n",
    "    input = file.read().splitlines()"
   ]
  },
  {
   "cell_type": "code",
   "execution_count": 79,
   "metadata": {},
   "outputs": [],
   "source": [
    "# Valve class\n",
    "valves = {}\n",
    "\n",
    "class Valve:\n",
    "    def __init__(self, id, flow, connections):\n",
    "        self.id = id\n",
    "        self.flow = flow\n",
    "        self.connections = connections\n",
    "        self.time_on = -1\n",
    "        self.visited = False\n",
    "\n",
    "def getTotalFlow(valves, time_end):\n",
    "    return sum(\n",
    "        valve.flow * (time_end - valve.time_on)\n",
    "        for _,valve in valves.items()\n",
    "        if valve.time_on > 0\n",
    "    )"
   ]
  },
  {
   "cell_type": "code",
   "execution_count": 80,
   "metadata": {},
   "outputs": [],
   "source": [
    "# File parsing\n",
    "valves = {}\n",
    "\n",
    "for line in input:\n",
    "    line_trimmed = line.replace(\"Valve \",\"\").replace(\" has flow rate\",\"\").replace(\" tunnels lead to valves \",\"\").replace(\" tunnel leads to valve \",\"\")\n",
    "\n",
    "    id, flow = line_trimmed.split(\";\")[0].split(\"=\")\n",
    "\n",
    "    connections = []\n",
    "    for link in line_trimmed.split(\";\")[1].split(\", \"):\n",
    "        connections.append(link)\n",
    "\n",
    "    valves[id] = Valve(id, int(flow), connections)"
   ]
  },
  {
   "cell_type": "code",
   "execution_count": 81,
   "metadata": {},
   "outputs": [
    {
     "name": "stdout",
     "output_type": "stream",
     "text": [
      "{('AA', 'BB'): 1, ('AA', 'CC'): 2, ('AA', 'DD'): 1, ('AA', 'EE'): 2, ('AA', 'HH'): 5, ('AA', 'JJ'): 2, ('BB', 'AA'): 1, ('BB', 'CC'): 1, ('BB', 'DD'): 2, ('BB', 'EE'): 3, ('BB', 'HH'): 6, ('BB', 'JJ'): 3, ('CC', 'AA'): 2, ('CC', 'BB'): 1, ('CC', 'DD'): 1, ('CC', 'EE'): 2, ('CC', 'HH'): 5, ('CC', 'JJ'): 4, ('DD', 'AA'): 1, ('DD', 'BB'): 2, ('DD', 'CC'): 1, ('DD', 'EE'): 1, ('DD', 'HH'): 4, ('DD', 'JJ'): 3, ('EE', 'AA'): 2, ('EE', 'BB'): 3, ('EE', 'CC'): 2, ('EE', 'DD'): 1, ('EE', 'HH'): 3, ('EE', 'JJ'): 4, ('HH', 'AA'): 5, ('HH', 'BB'): 6, ('HH', 'CC'): 5, ('HH', 'DD'): 4, ('HH', 'EE'): 3, ('HH', 'JJ'): 7, ('JJ', 'AA'): 2, ('JJ', 'BB'): 3, ('JJ', 'CC'): 4, ('JJ', 'DD'): 3, ('JJ', 'EE'): 4, ('JJ', 'HH'): 7}\n"
     ]
    }
   ],
   "source": [
    "# Create graph of edge lengths for all connections between working valves\n",
    "valves_working = { id:valve for id,valve in valves.items() if valve.flow > 0 or valve.id == \"AA\" }\n",
    "graph_dist = {}\n",
    "\n",
    "def getDist(valves, valveid_1, valveid_2):   \n",
    "    valve1 = valves[valveid_1]\n",
    "    valve2 = valves[valveid_2]\n",
    "\n",
    "    distance = {}\n",
    "\n",
    "    for valve in valves:\n",
    "        distance[valve] = -1\n",
    "\n",
    "    currDistance = 0\n",
    "    distance[valveid_1] = currDistance\n",
    "\n",
    "    while (valve2.visited == False):\n",
    "        limits = [id for id,valve in valves.items() if distance[id] == currDistance]\n",
    "\n",
    "        currDistance += 1\n",
    "\n",
    "        for id in limits:\n",
    "            for dest in valves[id].connections:\n",
    "                if (valves[dest].visited == False):\n",
    "                    distance[dest] = currDistance\n",
    "                    valves[dest].visited = True\n",
    "\n",
    "    for _,valve in valves.items():\n",
    "        valve.visited = False\n",
    "\n",
    "    return currDistance\n",
    "\n",
    "# Exhaustive computation of travel distance between pairs of working valves (could reduce by removing redundancy)\n",
    "for valve1 in valves_working:\n",
    "    for valve2 in valves_working:\n",
    "        if ( valve1 != valve2 ):\n",
    "            graph_dist[valve1,valve2] = getDist(valves, valve1, valve2)"
   ]
  }
 ],
 "metadata": {
  "kernelspec": {
   "display_name": "Python 3.9.13 ('base')",
   "language": "python",
   "name": "python3"
  },
  "language_info": {
   "codemirror_mode": {
    "name": "ipython",
    "version": 3
   },
   "file_extension": ".py",
   "mimetype": "text/x-python",
   "name": "python",
   "nbconvert_exporter": "python",
   "pygments_lexer": "ipython3",
   "version": "3.9.13"
  },
  "orig_nbformat": 4,
  "vscode": {
   "interpreter": {
    "hash": "f65f94cd6d5e6e785f67f03b9c7364952b2259c12c87232b753fe81c04fd2d32"
   }
  }
 },
 "nbformat": 4,
 "nbformat_minor": 2
}
