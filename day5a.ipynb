{
 "cells": [
  {
   "cell_type": "code",
   "execution_count": 1,
   "metadata": {},
   "outputs": [],
   "source": [
    "## ADVENT OF CODE 2022, Day 5\n",
    "## Edmund Dickinson, Python implementation\n",
    "\n",
    "# File read\n",
    "input_folder = \"Input/\"\n",
    "input_file = \"day5a.txt\"\n",
    "file_path = input_folder + input_file\n",
    "\n",
    "with open(file_path) as file:\n",
    "    input = file.read()"
   ]
  },
  {
   "cell_type": "code",
   "execution_count": 2,
   "metadata": {},
   "outputs": [],
   "source": [
    "# File processing\n",
    "# Assume that an empty line divides the two portions of the input\n",
    "# Get stack information\n",
    "stack_info = (input.split('\\n\\n')[0].splitlines())\n",
    "# Reverse so that stack numbers are at the start and then crates are read from bottom to top\n",
    "stack_info.reverse()\n",
    "\n",
    "# Get stack numbers from first line\n",
    "stack_strs = stack_info[0].split()\n",
    "num_stacks = len(stack_strs)\n",
    "\n",
    "stacks = [[] for i in range(num_stacks)]\n",
    "\n",
    "# Delete first line, run through remaining lines and populate stacks\n",
    "stack_info.pop(0)\n",
    "for line in stack_info:\n",
    "    # Unpack line as characters\n",
    "    linechars = list(line)\n",
    "    for k in range(num_stacks):\n",
    "        # Read middle char of each entry, returns ' ' if no object, else return letter\n",
    "        stackchar = linechars[4*k+1]\n",
    "        if not(stackchar == ' '):\n",
    "            # An item is present, add it\n",
    "            stacks[k].append(stackchar)\n",
    "\n",
    "# Convert instructions to sequences of num_boxes, from_stack, to_stack\n",
    "# Converts stack enumeration to zero-based\n",
    "instructions = input.split('\\n\\n')[1].splitlines()\n",
    "instructions = [line.replace(\"move\",\"\").replace(\"from\",\"\").replace(\"to\",\"\").split() for line in instructions]\n",
    "num_instructions = len(instructions)\n",
    "num_crates = [int(instructions[i][0]) for i in range(num_instructions)]\n",
    "from_stack = [int(instructions[i][1])-1 for i in range(num_instructions)]\n",
    "to_stack = [int(instructions[i][2])-1 for i in range(num_instructions)]"
   ]
  },
  {
   "cell_type": "code",
   "execution_count": 3,
   "metadata": {},
   "outputs": [
    {
     "name": "stdout",
     "output_type": "stream",
     "text": [
      "QGTHFZBHV\n"
     ]
    }
   ],
   "source": [
    "# Analysis\n",
    "for i in range(num_instructions):\n",
    "    for k in range(num_crates[i]):\n",
    "        # Move one item from one stack to the next\n",
    "        stacks[to_stack[i]].append(stacks[from_stack[i]].pop())\n",
    "\n",
    "stack_out = \"\".join([k[len(k)-1] for k in stacks if len(k) > 0])\n",
    "\n",
    "print(stack_out)"
   ]
  }
 ],
 "metadata": {
  "kernelspec": {
   "display_name": "Python 3.9.13 ('base')",
   "language": "python",
   "name": "python3"
  },
  "language_info": {
   "codemirror_mode": {
    "name": "ipython",
    "version": 3
   },
   "file_extension": ".py",
   "mimetype": "text/x-python",
   "name": "python",
   "nbconvert_exporter": "python",
   "pygments_lexer": "ipython3",
   "version": "3.9.13"
  },
  "orig_nbformat": 4,
  "vscode": {
   "interpreter": {
    "hash": "f65f94cd6d5e6e785f67f03b9c7364952b2259c12c87232b753fe81c04fd2d32"
   }
  }
 },
 "nbformat": 4,
 "nbformat_minor": 2
}
