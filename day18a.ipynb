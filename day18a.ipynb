{
 "cells": [
  {
   "cell_type": "code",
   "execution_count": 169,
   "metadata": {},
   "outputs": [],
   "source": [
    "## ADVENT OF CODE 2022, Day 18\n",
    "## Edmund Dickinson, Python implementation\n",
    "\n",
    "# File read\n",
    "input_folder = \"Input/\"\n",
    "input_file = \"day18a.txt\"\n",
    "file_path = input_folder + input_file\n",
    "\n",
    "with open(file_path) as file:\n",
    "    input = file.read().splitlines()"
   ]
  },
  {
   "cell_type": "code",
   "execution_count": 170,
   "metadata": {},
   "outputs": [],
   "source": [
    "droplet_lst = []\n",
    "for line in input:\n",
    "    droplet_lst.append(tuple([int(i) for i in line.split(\",\")]))\n",
    "\n",
    "droplet = set(droplet_lst)"
   ]
  },
  {
   "cell_type": "code",
   "execution_count": 171,
   "metadata": {},
   "outputs": [],
   "source": [
    "def connectedFaces(block,droplet):\n",
    "    # block - coordinates of block\n",
    "    # droplet - list of coordinates of blocks already present\n",
    "    xb,yb,zb = block\n",
    "    connected = 0\n",
    "\n",
    "    for sub in droplet:\n",
    "        # Compare to each block already present\n",
    "        # Shares a face if aligned with the block in a cardinal direction\n",
    "        xs,ys,zs = sub\n",
    "\n",
    "        if(\n",
    "            (abs(xs-xb) == 1 and ys == yb and zs == zb)\n",
    "            or\n",
    "            (abs(ys-yb) == 1 and xs == xb and zs == zb)\n",
    "            or\n",
    "            (abs(zs-zb) == 1 and xs == xb and ys == yb)\n",
    "        ):\n",
    "            connected += 1\n",
    "\n",
    "    return connected\n",
    "\n",
    "def getSurfaceArea(blocks):\n",
    "    droplet = []\n",
    "    num_faces = 0\n",
    "\n",
    "    # Note(ED): Does sorting guarantee connectivity..?\n",
    "    for block in sorted(blocks):\n",
    "        num_faces += 6 - 2*connectedFaces(block,droplet)\n",
    "        droplet.append(block)       \n",
    "\n",
    "    return num_faces\n",
    "\n",
    "def getNeighbours(coord, droplet):\n",
    "    # Return cardinal neighbours of coord that are not in droplet\n",
    "    x,y,z = coord\n",
    "    neighbours = set([\n",
    "        (x+1,y,z),\n",
    "        (x-1,y,z),\n",
    "        (x,y+1,z),\n",
    "        (x,y-1,z),\n",
    "        (x,y,z+1),\n",
    "        (x,y,z-1)\n",
    "    ])\n",
    "\n",
    "    return neighbours.difference(droplet)"
   ]
  },
  {
   "cell_type": "code",
   "execution_count": 172,
   "metadata": {},
   "outputs": [
    {
     "name": "stdout",
     "output_type": "stream",
     "text": [
      "3586\n"
     ]
    }
   ],
   "source": [
    "# Determine total surface area\n",
    "surface_area_tot = getSurfaceArea(droplet)\n",
    "print( surface_area_tot )"
   ]
  }
 ],
 "metadata": {
  "kernelspec": {
   "display_name": "Python 3.9.13 ('base')",
   "language": "python",
   "name": "python3"
  },
  "language_info": {
   "codemirror_mode": {
    "name": "ipython",
    "version": 3
   },
   "file_extension": ".py",
   "mimetype": "text/x-python",
   "name": "python",
   "nbconvert_exporter": "python",
   "pygments_lexer": "ipython3",
   "version": "3.9.13 (main, Aug 25 2022, 23:51:50) [MSC v.1916 64 bit (AMD64)]"
  },
  "orig_nbformat": 4,
  "vscode": {
   "interpreter": {
    "hash": "f65f94cd6d5e6e785f67f03b9c7364952b2259c12c87232b753fe81c04fd2d32"
   }
  }
 },
 "nbformat": 4,
 "nbformat_minor": 2
}
