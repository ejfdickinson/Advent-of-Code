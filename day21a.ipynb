{
 "cells": [
  {
   "cell_type": "code",
   "execution_count": 1,
   "metadata": {},
   "outputs": [],
   "source": [
    "## ADVENT OF CODE 2022, Day 21\n",
    "## Edmund Dickinson, Python implementation\n",
    "\n",
    "# File read\n",
    "input_folder = \"Input/\"\n",
    "input_file = \"day21a.txt\"\n",
    "file_path = input_folder + input_file\n",
    "\n",
    "with open(file_path) as file:\n",
    "    input = file.read().splitlines()"
   ]
  },
  {
   "cell_type": "code",
   "execution_count": 2,
   "metadata": {},
   "outputs": [],
   "source": [
    "class Monkey:\n",
    "    def __init__(self, tribe, id, oper_str):\n",
    "        self.tribe = tribe\n",
    "        self.id = id\n",
    "        self.val = None        \n",
    "        self.operation = None\n",
    "        self.operands = [None, None]\n",
    "        self.listening = []\n",
    "        self.parseOperation(oper_str)\n",
    "\n",
    "    def parseOperation(self, oper_str):\n",
    "        if oper_str.isnumeric():\n",
    "            # Set a value\n",
    "            self.val = int(oper_str)\n",
    "        else:\n",
    "            # Set an expression\n",
    "            self.operands[0] = oper_str[:4]\n",
    "            self.operands[1] = oper_str[7:]\n",
    "            self.operation   = oper_str[5]\n",
    "\n",
    "            self.listening = [i for i in self.operands]\n",
    "\n",
    "    def doOperation(self):\n",
    "        a,b = tuple([self.tribe[i].val for i in self.operands])\n",
    "        \n",
    "        if   self.operation == '+':\n",
    "            self.val = a + b\n",
    "        elif self.operation == '-':\n",
    "            self.val = a - b\n",
    "        elif self.operation == '*':\n",
    "            self.val = a * b\n",
    "        elif self.operation == '/':\n",
    "            # Assumed floor division for ints\n",
    "            self.val = a // b\n",
    "\n",
    "    def checkComputation(self):\n",
    "        if self.val is None:\n",
    "            if not (self.tribe[self.operands[0]].val is None\n",
    "                    or\n",
    "                    self.tribe[self.operands[1]].val is None\n",
    "            ):\n",
    "                self.doOperation()"
   ]
  },
  {
   "cell_type": "code",
   "execution_count": 3,
   "metadata": {},
   "outputs": [],
   "source": [
    "# File parsing\n",
    "monkeys = {}\n",
    "\n",
    "for line in input:\n",
    "    id = line.split(\": \")[0]\n",
    "    oper_str = line.split(\": \")[1]\n",
    "\n",
    "    monkeys[id] = Monkey(monkeys, id, oper_str)"
   ]
  },
  {
   "cell_type": "code",
   "execution_count": 4,
   "metadata": {},
   "outputs": [
    {
     "name": "stdout",
     "output_type": "stream",
     "text": [
      "194501589693264\n"
     ]
    }
   ],
   "source": [
    "# Pass through all monkeys repeatedly until all values are filled in\n",
    "while monkeys[\"root\"].val is None:\n",
    "    for monkey in monkeys.values():\n",
    "        monkey.checkComputation()\n",
    "\n",
    "print ( monkeys[\"root\"].val )"
   ]
  }
 ],
 "metadata": {
  "kernelspec": {
   "display_name": "Python 3.9.13 ('base')",
   "language": "python",
   "name": "python3"
  },
  "language_info": {
   "codemirror_mode": {
    "name": "ipython",
    "version": 3
   },
   "file_extension": ".py",
   "mimetype": "text/x-python",
   "name": "python",
   "nbconvert_exporter": "python",
   "pygments_lexer": "ipython3",
   "version": "3.9.13"
  },
  "orig_nbformat": 4,
  "vscode": {
   "interpreter": {
    "hash": "f65f94cd6d5e6e785f67f03b9c7364952b2259c12c87232b753fe81c04fd2d32"
   }
  }
 },
 "nbformat": 4,
 "nbformat_minor": 2
}
