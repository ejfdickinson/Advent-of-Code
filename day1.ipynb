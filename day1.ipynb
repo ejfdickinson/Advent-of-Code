{
 "cells": [
  {
   "cell_type": "code",
   "execution_count": 7,
   "metadata": {},
   "outputs": [],
   "source": [
    "## ADVENT OF CODE 2022, Day 1\n",
    "## Edmund Dickinson, Python implementation\n",
    "\n",
    "# File read\n",
    "input_folder = \"Input/\"\n",
    "input_file = \"day1a.txt\"\n",
    "file_path = input_folder + input_file\n",
    "\n",
    "with open(file_path) as file:\n",
    "    input = file.read().splitlines()"
   ]
  },
  {
   "cell_type": "code",
   "execution_count": 8,
   "metadata": {},
   "outputs": [],
   "source": [
    "# File processing\n",
    "elves = []\n",
    "curr_elf = []\n",
    "for line in input:\n",
    "    if line == \"\":\n",
    "        # empty line, collate the previous elf and start the next\n",
    "        elves.append(curr_elf)\n",
    "        curr_elf = []\n",
    "    else:\n",
    "        curr_elf.append(float(line))\n",
    "# adding the last elf\n",
    "elves.append(curr_elf)"
   ]
  },
  {
   "cell_type": "code",
   "execution_count": 9,
   "metadata": {},
   "outputs": [
    {
     "name": "stdout",
     "output_type": "stream",
     "text": [
      "66719.0\n",
      "198551.0\n"
     ]
    }
   ],
   "source": [
    "# Analysis\n",
    "calories = [sum(i) for i in elves]\n",
    "# Sort in descending order\n",
    "calories.sort(reverse=True)\n",
    "max_cal = max(calories)\n",
    "max_three_cal = sum(calories[0:3])\n",
    "\n",
    "print(max_cal)\n",
    "print(max_three_cal)"
   ]
  }
 ],
 "metadata": {
  "kernelspec": {
   "display_name": "Python 3.9.13 ('base')",
   "language": "python",
   "name": "python3"
  },
  "language_info": {
   "codemirror_mode": {
    "name": "ipython",
    "version": 3
   },
   "file_extension": ".py",
   "mimetype": "text/x-python",
   "name": "python",
   "nbconvert_exporter": "python",
   "pygments_lexer": "ipython3",
   "version": "3.9.13"
  },
  "orig_nbformat": 4,
  "vscode": {
   "interpreter": {
    "hash": "f65f94cd6d5e6e785f67f03b9c7364952b2259c12c87232b753fe81c04fd2d32"
   }
  }
 },
 "nbformat": 4,
 "nbformat_minor": 2
}
