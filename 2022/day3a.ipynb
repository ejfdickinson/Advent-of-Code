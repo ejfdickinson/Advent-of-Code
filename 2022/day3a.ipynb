{
 "cells": [
  {
   "cell_type": "code",
   "execution_count": 26,
   "metadata": {},
   "outputs": [],
   "source": [
    "## ADVENT OF CODE 2022, Day 3\n",
    "## Edmund Dickinson, Python implementation\n",
    "import string\n",
    "\n",
    "# File read\n",
    "input_folder = \"Input/\"\n",
    "input_file = \"day3a.txt\"\n",
    "file_path = input_folder + input_file\n",
    "\n",
    "with open(file_path) as file:\n",
    "    input = file.read().splitlines()"
   ]
  },
  {
   "cell_type": "code",
   "execution_count": 27,
   "metadata": {},
   "outputs": [],
   "source": [
    "# File processing"
   ]
  },
  {
   "cell_type": "code",
   "execution_count": 28,
   "metadata": {},
   "outputs": [
    {
     "name": "stdout",
     "output_type": "stream",
     "text": [
      "8252\n"
     ]
    }
   ],
   "source": [
    "# Analysis\n",
    "tot_priority = 0\n",
    "# Priority table = ['abc...xyzABC...XYZ']\n",
    "comp_str = string.ascii_lowercase + string.ascii_uppercase\n",
    "\n",
    "for line in input:\n",
    "    num_chars = len(line)//2\n",
    "    line_half1 = line[0:num_chars]\n",
    "    line_half2 = line[num_chars:2*num_chars]\n",
    "\n",
    "    shared_char = set(line_half1) & set(line_half2)\n",
    "\n",
    "    if(len(shared_char) > 1):\n",
    "        raise Exception(\"More than one shared character located.\")\n",
    "\n",
    "    # Only one shared character, pop it from the list and look up in the priority table\n",
    "    priority = 1 + comp_str.index(shared_char.pop())\n",
    "    tot_priority += priority\n",
    "\n",
    "print(tot_priority)"
   ]
  }
 ],
 "metadata": {
  "kernelspec": {
   "display_name": "Python 3.9.13 ('base')",
   "language": "python",
   "name": "python3"
  },
  "language_info": {
   "codemirror_mode": {
    "name": "ipython",
    "version": 3
   },
   "file_extension": ".py",
   "mimetype": "text/x-python",
   "name": "python",
   "nbconvert_exporter": "python",
   "pygments_lexer": "ipython3",
   "version": "3.9.13"
  },
  "orig_nbformat": 4,
  "vscode": {
   "interpreter": {
    "hash": "f65f94cd6d5e6e785f67f03b9c7364952b2259c12c87232b753fe81c04fd2d32"
   }
  }
 },
 "nbformat": 4,
 "nbformat_minor": 2
}
