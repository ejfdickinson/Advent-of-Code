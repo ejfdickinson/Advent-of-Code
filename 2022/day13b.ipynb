{
 "cells": [
  {
   "cell_type": "code",
   "execution_count": 37,
   "metadata": {},
   "outputs": [],
   "source": [
    "## ADVENT OF CODE 2022, Day 13\n",
    "## Edmund Dickinson, Python implementation\n",
    "\n",
    "# File read\n",
    "input_folder = \"Input/\"\n",
    "input_file = \"day13a.txt\"\n",
    "file_path = input_folder + input_file\n",
    "\n",
    "with open(file_path) as file:\n",
    "    input = file.read()"
   ]
  },
  {
   "cell_type": "code",
   "execution_count": 38,
   "metadata": {},
   "outputs": [],
   "source": [
    "# The packets happen to be valid Python list syntax so may as well store them as such\n",
    "pairs = [[eval(line) for line in item.splitlines()] for item in input.split(\"\\n\\n\")]"
   ]
  },
  {
   "cell_type": "code",
   "execution_count": 39,
   "metadata": {},
   "outputs": [],
   "source": [
    "def compare(a, b):\n",
    "    # Comparator\n",
    "    # Returns -1 if a < b\n",
    "    # Returns +1 if a > b\n",
    "    # Returns 0 if no decision\n",
    "    if(type(a) is int and type(b) is int):\n",
    "        if (a < b):\n",
    "            return -1\n",
    "        elif (a > b):\n",
    "            return 1\n",
    "        else:\n",
    "            return 0\n",
    "    elif(type(a) is int):\n",
    "        return compare([a], b)\n",
    "    elif(type(b) is int):\n",
    "        return compare(a, [b])\n",
    "    else:\n",
    "        # Two lists\n",
    "        for idx, item in enumerate(a):\n",
    "            if (idx == len(b)):\n",
    "                # Right list has run out of items before left list\n",
    "                return 1\n",
    "            \n",
    "            val = compare(a[idx], b[idx])\n",
    "                        \n",
    "            if (val == 0):\n",
    "                # No decision yet, test next value\n",
    "                continue\n",
    "            else:\n",
    "                return val\n",
    "\n",
    "        # Left list has run out of items\n",
    "        if ( len(b) == len(a) ):\n",
    "            # Both lists have same length\n",
    "            return 0\n",
    "        else:\n",
    "            return -1"
   ]
  },
  {
   "cell_type": "code",
   "execution_count": 40,
   "metadata": {},
   "outputs": [
    {
     "name": "stdout",
     "output_type": "stream",
     "text": [
      "6415\n"
     ]
    }
   ],
   "source": [
    "# Puzzle 1 - return sum of 1-based indices if in order\n",
    "idx_sum = sum(\n",
    "    idx+1 for idx, pair in enumerate(pairs)\n",
    "    if ( compare(*pair) == -1 )\n",
    ")\n",
    "print(idx_sum)"
   ]
  },
  {
   "cell_type": "code",
   "execution_count": 41,
   "metadata": {},
   "outputs": [
    {
     "name": "stdout",
     "output_type": "stream",
     "text": [
      "20056\n"
     ]
    }
   ],
   "source": [
    "# Puzzle 2 - sort with extra decoder\n",
    "decoder1 = [[2]]\n",
    "decoder2 = [[6]]\n",
    "\n",
    "packets = [eval(line) for line in input.splitlines() if line != '']\n",
    "packets.append(decoder1)\n",
    "packets.append(decoder2)\n",
    "\n",
    "# Sort with custom function, find product of decoder indices (1-based)\n",
    "from functools import cmp_to_key\n",
    "packets_sorted = sorted(packets, key=cmp_to_key(compare))\n",
    "print((packets_sorted.index(decoder1)+1) * (packets_sorted.index(decoder2)+1))"
   ]
  }
 ],
 "metadata": {
  "kernelspec": {
   "display_name": "Python 3.9.13 ('base')",
   "language": "python",
   "name": "python3"
  },
  "language_info": {
   "codemirror_mode": {
    "name": "ipython",
    "version": 3
   },
   "file_extension": ".py",
   "mimetype": "text/x-python",
   "name": "python",
   "nbconvert_exporter": "python",
   "pygments_lexer": "ipython3",
   "version": "3.9.13"
  },
  "orig_nbformat": 4,
  "vscode": {
   "interpreter": {
    "hash": "f65f94cd6d5e6e785f67f03b9c7364952b2259c12c87232b753fe81c04fd2d32"
   }
  }
 },
 "nbformat": 4,
 "nbformat_minor": 2
}
