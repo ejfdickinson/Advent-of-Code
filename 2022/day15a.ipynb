{
 "cells": [
  {
   "cell_type": "code",
   "execution_count": 43,
   "metadata": {},
   "outputs": [],
   "source": [
    "## ADVENT OF CODE 2022, Day 15\n",
    "## Edmund Dickinson, Python implementation\n",
    "\n",
    "# File read\n",
    "input_folder = \"Input/\"\n",
    "input_file = \"day15a.txt\"\n",
    "file_path = input_folder + input_file\n",
    "\n",
    "with open(file_path) as file:\n",
    "    input = file.read().splitlines()"
   ]
  },
  {
   "cell_type": "code",
   "execution_count": 44,
   "metadata": {},
   "outputs": [],
   "source": [
    "# File parsing\n",
    "beacons = {}\n",
    "\n",
    "for line in input:\n",
    "    sensor_str = line.split(\":\")[0].replace(\"Sensor at x=\",\"\").replace(\" y=\",\"\")\n",
    "    beacon_str = line.split(\":\")[1].replace(\" closest beacon is at x=\",\"\").replace(\" y=\",\"\")\n",
    "\n",
    "    xs,ys = [int(i) for i in sensor_str.split(',')]\n",
    "    xb,yb = [int(i) for i in beacon_str.split(',')]\n",
    "\n",
    "    beacons[(xs,ys)] = (xb,yb)"
   ]
  },
  {
   "cell_type": "code",
   "execution_count": 45,
   "metadata": {},
   "outputs": [
    {
     "name": "stdout",
     "output_type": "stream",
     "text": [
      "4582667\n"
     ]
    }
   ],
   "source": [
    "# Analysis\n",
    "def manhattan(a,b):\n",
    "    xa,ya = a\n",
    "    xb,yb = b\n",
    "\n",
    "    return (abs(xa-xb) + abs(ya-yb))\n",
    "\n",
    "def num_blocked_by_row(beacons, row):\n",
    "    blocked = set()\n",
    "\n",
    "    # Run through blocks from sensors\n",
    "    for sensor, beacon in beacons.items():\n",
    "        dist = manhattan(sensor,beacon)\n",
    "        \n",
    "        # Blocks all values with equal or greater Manhattan distance from sensor\n",
    "        xs, ys = sensor\n",
    "        dy = abs(ys-row)\n",
    "\n",
    "        # therefore blocks all values with |x-xs| <= dist-dy\n",
    "        dx_max = max([dist-dy,0])\n",
    "        for dx in range(dx_max+1):\n",
    "            blocked.add(xs-dx)\n",
    "            blocked.add(xs+dx)\n",
    "\n",
    "    # Remove the beacons themselves\n",
    "    for _, beacon in beacons.items():\n",
    "        xb, yb = beacon\n",
    "        if (yb == row):\n",
    "            blocked.discard(xb)\n",
    "\n",
    "    return len(blocked)\n",
    "\n",
    "row = 2000000\n",
    "\n",
    "print( num_blocked_by_row(beacons, row) )"
   ]
  }
 ],
 "metadata": {
  "kernelspec": {
   "display_name": "Python 3.9.13 ('base')",
   "language": "python",
   "name": "python3"
  },
  "language_info": {
   "codemirror_mode": {
    "name": "ipython",
    "version": 3
   },
   "file_extension": ".py",
   "mimetype": "text/x-python",
   "name": "python",
   "nbconvert_exporter": "python",
   "pygments_lexer": "ipython3",
   "version": "3.9.13"
  },
  "orig_nbformat": 4,
  "vscode": {
   "interpreter": {
    "hash": "f65f94cd6d5e6e785f67f03b9c7364952b2259c12c87232b753fe81c04fd2d32"
   }
  }
 },
 "nbformat": 4,
 "nbformat_minor": 2
}
