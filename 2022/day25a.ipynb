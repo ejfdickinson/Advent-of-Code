{
 "cells": [
  {
   "cell_type": "code",
   "execution_count": 36,
   "metadata": {},
   "outputs": [],
   "source": [
    "## ADVENT OF CODE 2022, Day 25\n",
    "## Edmund Dickinson, Python implementation\n",
    "\n",
    "# File read\n",
    "input_folder = \"Input/\"\n",
    "input_file = \"day25a.txt\"\n",
    "file_path = input_folder + input_file\n",
    "\n",
    "with open(file_path) as file:\n",
    "    input = file.read().splitlines()"
   ]
  },
  {
   "cell_type": "code",
   "execution_count": 37,
   "metadata": {},
   "outputs": [],
   "source": [
    "def snafu2int(str):\n",
    "    symbols = {\n",
    "        \"=\": -2,\n",
    "        \"-\": -1,\n",
    "        \"0\": 0,\n",
    "        \"1\": 1,\n",
    "        \"2\": 2\n",
    "    }\n",
    "\n",
    "    digits = list(str)\n",
    "    val = 0\n",
    "    mult = 1\n",
    "\n",
    "    while (len(digits) > 0):\n",
    "        char = digits.pop()\n",
    "\n",
    "        val += mult * symbols[char]\n",
    "        mult *= 5\n",
    "\n",
    "    return val\n",
    "\n",
    "def int2snafu(val):\n",
    "    symbols = {\n",
    "        -2: \"=\",\n",
    "        -1: \"-\",\n",
    "        0: \"0\",\n",
    "        1: \"1\",\n",
    "        2: \"2\"\n",
    "    }\n",
    "\n",
    "    digits = []\n",
    "\n",
    "    while (val != 0):   \n",
    "        rem = val % 5\n",
    "        if (rem > 2):\n",
    "            rem -= 5\n",
    "        \n",
    "        val -= rem\n",
    "        val = val // 5\n",
    "\n",
    "        digits.append(symbols[rem])        \n",
    "\n",
    "    str = \"\".join(reversed(digits))\n",
    "    return str"
   ]
  },
  {
   "cell_type": "code",
   "execution_count": 38,
   "metadata": {},
   "outputs": [],
   "source": [
    "def addBalloons(input):\n",
    "    return int2snafu(\n",
    "        sum(\n",
    "            [snafu2int(i) for i in input]\n",
    "        )\n",
    "    )"
   ]
  },
  {
   "cell_type": "code",
   "execution_count": 39,
   "metadata": {},
   "outputs": [
    {
     "name": "stdout",
     "output_type": "stream",
     "text": [
      "122-12==0-01=00-0=02\n"
     ]
    }
   ],
   "source": [
    "print (addBalloons(input))"
   ]
  }
 ],
 "metadata": {
  "kernelspec": {
   "display_name": "Python 3.9.13 ('base')",
   "language": "python",
   "name": "python3"
  },
  "language_info": {
   "codemirror_mode": {
    "name": "ipython",
    "version": 3
   },
   "file_extension": ".py",
   "mimetype": "text/x-python",
   "name": "python",
   "nbconvert_exporter": "python",
   "pygments_lexer": "ipython3",
   "version": "3.9.13"
  },
  "orig_nbformat": 4,
  "vscode": {
   "interpreter": {
    "hash": "f65f94cd6d5e6e785f67f03b9c7364952b2259c12c87232b753fe81c04fd2d32"
   }
  }
 },
 "nbformat": 4,
 "nbformat_minor": 2
}
