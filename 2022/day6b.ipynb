{
 "cells": [
  {
   "cell_type": "code",
   "execution_count": 1,
   "metadata": {},
   "outputs": [],
   "source": [
    "## ADVENT OF CODE 2022, Day 6\n",
    "## Edmund Dickinson, Python implementation\n",
    "\n",
    "# File read\n",
    "input_folder = \"Input/\"\n",
    "input_file = \"day6a.txt\"\n",
    "file_path = input_folder + input_file\n",
    "\n",
    "with open(file_path) as file:\n",
    "    input = file.read().splitlines()"
   ]
  },
  {
   "cell_type": "code",
   "execution_count": 2,
   "metadata": {},
   "outputs": [],
   "source": [
    "# File processing\n",
    "# Single line stream input\n",
    "input = input[0]\n"
   ]
  },
  {
   "cell_type": "code",
   "execution_count": 3,
   "metadata": {},
   "outputs": [
    {
     "name": "stdout",
     "output_type": "stream",
     "text": [
      "3645\n"
     ]
    }
   ],
   "source": [
    "# Analysis (Puzzle 2)\n",
    "# Number of different characters to check for\n",
    "# Set = 4 for start-of-packet\n",
    "# Set = 14 for start-of-message\n",
    "# Note(ED): shouldn't really hardcode these\n",
    "num_char_type = 14\n",
    "\n",
    "idx = len(input)\n",
    "\n",
    "for i in range(len(input)-num_char_type):\n",
    "    # Sequence of n consecutive characters\n",
    "    test_str = input[i:i+num_char_type]\n",
    "\n",
    "    # Test for n unique characters\n",
    "    if(len(set(test_str)) == num_char_type):\n",
    "        # Last read character (1-based) is beginning index + n\n",
    "        idx = i+num_char_type\n",
    "        break\n",
    "\n",
    "print(idx)"
   ]
  }
 ],
 "metadata": {
  "kernelspec": {
   "display_name": "Python 3.9.13 ('base')",
   "language": "python",
   "name": "python3"
  },
  "language_info": {
   "codemirror_mode": {
    "name": "ipython",
    "version": 3
   },
   "file_extension": ".py",
   "mimetype": "text/x-python",
   "name": "python",
   "nbconvert_exporter": "python",
   "pygments_lexer": "ipython3",
   "version": "3.9.13"
  },
  "orig_nbformat": 4,
  "vscode": {
   "interpreter": {
    "hash": "f65f94cd6d5e6e785f67f03b9c7364952b2259c12c87232b753fe81c04fd2d32"
   }
  }
 },
 "nbformat": 4,
 "nbformat_minor": 2
}
