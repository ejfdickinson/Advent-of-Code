{
 "cells": [
  {
   "cell_type": "code",
   "execution_count": 37,
   "metadata": {},
   "outputs": [],
   "source": [
    "## ADVENT OF CODE 2022, Day 12\n",
    "## Edmund Dickinson, Python implementation\n",
    "\n",
    "# File read\n",
    "input_folder = \"Input/\"\n",
    "input_file = \"day12a.txt\"\n",
    "file_path = input_folder + input_file\n",
    "\n",
    "with open(file_path) as file:\n",
    "    input = file.read().splitlines()"
   ]
  },
  {
   "cell_type": "code",
   "execution_count": 38,
   "metadata": {},
   "outputs": [],
   "source": [
    "# File processing\n",
    "import string\n",
    "\n",
    "elevation = [list(line) for line in input]\n",
    "\n",
    "start_coord = [(i,j) for i,line in enumerate(elevation) for j,char in enumerate(line) if elevation[i][j] == 'S'][0]\n",
    "end_coord   = [(i,j) for i,line in enumerate(elevation) for j,char in enumerate(line) if elevation[i][j] == 'E'][0]\n",
    "\n",
    "elevation[start_coord[0]][start_coord[1]] = 'a'\n",
    "elevation[end_coord[0]][end_coord[1]] = 'z'\n",
    "\n",
    "elevation = [[string.ascii_lowercase.index(char) for char in line] for line in elevation]"
   ]
  },
  {
   "cell_type": "code",
   "execution_count": 39,
   "metadata": {},
   "outputs": [
    {
     "name": "stdout",
     "output_type": "stream",
     "text": [
      "420\n"
     ]
    }
   ],
   "source": [
    "# Dijkstra's shortest path algorithm\n",
    "# Note(ED): really don't like the way I did the data structures and indexing for this, feels MATLAB-onic not Pythonic\n",
    "visited =  [[False for char in line] for line in elevation]\n",
    "distance = [[-1 for char in line] for line in elevation]\n",
    "\n",
    "def getNeighbours(coord):\n",
    "    i, j = coord\n",
    "    neighbours = []\n",
    "    \n",
    "    if (i > 0):\n",
    "        neighbours.append((i-1,j))\n",
    "    if (i < (len(elevation)-1)):\n",
    "        neighbours.append((i+1,j))\n",
    "    if (j > 0):\n",
    "        neighbours.append((i,j-1))\n",
    "    if (j < (len(elevation[0])-1)):\n",
    "        neighbours.append((i,j+1))    \n",
    "\n",
    "    return neighbours\n",
    "\n",
    "def getConnected(coord, direction='up'):\n",
    "    # Return list of linked coordinates in ascent\n",
    "    this_elev = elevation[coord[0]][coord[1]]\n",
    "    if (direction == 'up'):\n",
    "        return [k for k in getNeighbours(coord) if elevation[k[0]][k[1]] <= (this_elev + 1)]\n",
    "    elif (direction == 'down'):\n",
    "        return [k for k in getNeighbours(coord) if elevation[k[0]][k[1]] >= (this_elev - 1)]      \n",
    "    else:\n",
    "        raise Exception(\"Invalid direction input to getConnected().\")\n",
    " \n",
    "def setVisited(coord):\n",
    "    i,j = coord\n",
    "    visited[i][j] = True\n",
    "\n",
    "def setDistance(coord, val):\n",
    "    i,j = coord\n",
    "    distance[i][j] = val\n",
    "\n",
    "def getVisited(coord):\n",
    "    i,j = coord\n",
    "    return visited[i][j]\n",
    "\n",
    "def getDistance(coord):\n",
    "    i,j = coord\n",
    "    return distance[i][j]\n",
    "\n",
    "def runDijkstra(pathlength, direction='up'):\n",
    "    nodes = [(i,j) for i, line in enumerate(elevation) for j, val in enumerate(line) if getDistance((i,j)) == pathlength]    \n",
    "\n",
    "    for source in nodes:\n",
    "        for dest in getConnected(source, direction):\n",
    "            if(getVisited(dest) == False):\n",
    "                setVisited(dest)\n",
    "                setDistance(dest, pathlength+1)\n",
    "\n",
    "currDistance = 0\n",
    "setDistance(start_coord, currDistance)\n",
    "\n",
    "# Puzzle One - ascending from start\n",
    "while ( getVisited(end_coord) == False ):\n",
    "    runDijkstra(currDistance)\n",
    "    currDistance += 1\n",
    "\n",
    "print( getDistance(end_coord) )"
   ]
  },
  {
   "cell_type": "code",
   "execution_count": 40,
   "metadata": {},
   "outputs": [
    {
     "name": "stdout",
     "output_type": "stream",
     "text": [
      "414\n"
     ]
    }
   ],
   "source": [
    "# Puzzle Two - descending from end\n",
    "# Reset arrays\n",
    "visited =  [[False for char in line] for line in elevation]\n",
    "distance = [[-1 for char in line] for line in elevation]\n",
    "\n",
    "base_coords = [(i,j) for i, line in enumerate(distance) for j, val in enumerate(line) if elevation[i][j] == 0]\n",
    "currDistance = 0\n",
    "setDistance(end_coord, currDistance)\n",
    "\n",
    "while ( not( any([getVisited(coord) for coord in base_coords]))):\n",
    "    runDijkstra(currDistance,'down')\n",
    "    currDistance += 1\n",
    "\n",
    "print( min ([getDistance(coord) for coord in base_coords if getDistance(coord) > 0]))"
   ]
  }
 ],
 "metadata": {
  "kernelspec": {
   "display_name": "Python 3.9.13 ('base')",
   "language": "python",
   "name": "python3"
  },
  "language_info": {
   "codemirror_mode": {
    "name": "ipython",
    "version": 3
   },
   "file_extension": ".py",
   "mimetype": "text/x-python",
   "name": "python",
   "nbconvert_exporter": "python",
   "pygments_lexer": "ipython3",
   "version": "3.9.13"
  },
  "orig_nbformat": 4,
  "vscode": {
   "interpreter": {
    "hash": "f65f94cd6d5e6e785f67f03b9c7364952b2259c12c87232b753fe81c04fd2d32"
   }
  }
 },
 "nbformat": 4,
 "nbformat_minor": 2
}
