{
 "cells": [
  {
   "cell_type": "code",
   "execution_count": 13,
   "metadata": {},
   "outputs": [],
   "source": [
    "## ADVENT OF CODE 2022, Day 4\n",
    "## Edmund Dickinson, Python implementation\n",
    "\n",
    "# File read\n",
    "input_folder = \"Input/\"\n",
    "input_file = \"day4a.txt\"\n",
    "file_path = input_folder + input_file\n",
    "\n",
    "with open(file_path) as file:\n",
    "    input = file.read().splitlines()"
   ]
  },
  {
   "cell_type": "code",
   "execution_count": 14,
   "metadata": {},
   "outputs": [],
   "source": [
    "# File processing\n",
    "pairs = [line.split(',') for line in input]"
   ]
  },
  {
   "cell_type": "code",
   "execution_count": 15,
   "metadata": {},
   "outputs": [
    {
     "name": "stdout",
     "output_type": "stream",
     "text": [
      "Containing pairs:  651\n",
      "Overlapping pairs:  956\n"
     ]
    }
   ],
   "source": [
    "# Analysis\n",
    "num_contain = 0\n",
    "num_overlap = 0\n",
    "\n",
    "for k in pairs:\n",
    "    # bounds of 1st and 2nd elf\n",
    "    # Query(ED): can be reduced to 1 line?\n",
    "    bounds1_str = k[0].split('-')\n",
    "    bounds2_str = k[1].split('-')\n",
    "\n",
    "    # string to double\n",
    "    bounds1 = [float(i) for i in bounds1_str]\n",
    "    bounds2 = [float(i) for i in bounds2_str]\n",
    "\n",
    "    # One range contains other if min <= min and max >= max, test both cases\n",
    "    if((min(bounds1) <= min(bounds2) and max(bounds1) >= max(bounds2))\n",
    "        or\n",
    "       (min(bounds2) <= min(bounds1) and max(bounds2) >= max(bounds1))):\n",
    "       num_contain += 1\n",
    "\n",
    "    # One range overlaps other if not(max < min), test both cases\n",
    "    if(not((max(bounds1) < min(bounds2))\n",
    "            or\n",
    "           (max(bounds2) < min(bounds1))\n",
    "           )):\n",
    "       num_overlap += 1\n",
    "\n",
    "print(\"Containing pairs: \", num_contain)\n",
    "print(\"Overlapping pairs: \", num_overlap)"
   ]
  }
 ],
 "metadata": {
  "kernelspec": {
   "display_name": "Python 3.9.13 ('base')",
   "language": "python",
   "name": "python3"
  },
  "language_info": {
   "codemirror_mode": {
    "name": "ipython",
    "version": 3
   },
   "file_extension": ".py",
   "mimetype": "text/x-python",
   "name": "python",
   "nbconvert_exporter": "python",
   "pygments_lexer": "ipython3",
   "version": "3.9.13"
  },
  "orig_nbformat": 4,
  "vscode": {
   "interpreter": {
    "hash": "f65f94cd6d5e6e785f67f03b9c7364952b2259c12c87232b753fe81c04fd2d32"
   }
  }
 },
 "nbformat": 4,
 "nbformat_minor": 2
}
