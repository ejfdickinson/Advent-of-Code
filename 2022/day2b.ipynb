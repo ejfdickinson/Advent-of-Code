{
 "cells": [
  {
   "cell_type": "code",
   "execution_count": 10,
   "metadata": {},
   "outputs": [],
   "source": [
    "## ADVENT OF CODE 2022, Day 2 (Second Puzzle)\n",
    "## Edmund Dickinson, Python implementation\n",
    "\n",
    "# File read\n",
    "input_folder = \"Input/\"\n",
    "input_file = \"day2a.txt\"\n",
    "file_path = input_folder + input_file\n",
    "\n",
    "with open(file_path) as file:\n",
    "    input = file.read().splitlines()"
   ]
  },
  {
   "cell_type": "code",
   "execution_count": 11,
   "metadata": {},
   "outputs": [],
   "source": [
    "# File processing\n",
    "# Extract opposition plays and desired results\n",
    "# Query(ED): Can the following be done in one line?\n",
    "oppo = [line.split()[0] for line in input]\n",
    "result = [line.split()[1] for line in input]\n",
    "\n",
    "if(len(oppo) != len(result)):\n",
    "    raise Exception(\"Unequal length inputs.\")\n",
    "\n",
    "oppo = [line.replace('A', 'Rock').replace('B', 'Paper').replace('C', 'Scissors') for line in oppo]\n",
    "result = [line.replace('X', 'Loss').replace('Y', 'Draw').replace('Z', 'Win') for line in result]"
   ]
  },
  {
   "cell_type": "code",
   "execution_count": 12,
   "metadata": {},
   "outputs": [
    {
     "name": "stdout",
     "output_type": "stream",
     "text": [
      "13693\n"
     ]
    }
   ],
   "source": [
    "# Analysis\n",
    "play_opts = ['Rock', 'Paper', 'Scissors']\n",
    "result_opts = [-1, 0, 1]\n",
    "result_str_opts = ['Loss', 'Draw', 'Win']\n",
    "result_scores = [0, 3, 6]\n",
    "\n",
    "tot_score = 0\n",
    "for i in range(len(result)):\n",
    "    # Analyse round\n",
    "    # result = +1 for win, -1 for loss, 0 for draw\n",
    "    play_idx = play_opts.index(oppo[i]) + result_opts[result_str_opts.index(result[i])]\n",
    "    # Cycle to handle Rock/Scissors cases:\n",
    "    play_idx = play_idx % 3\n",
    "\n",
    "    # Score 1 for Rock, 2 for Paper, 3 for Scissors\n",
    "    round_score = 1 + play_idx\n",
    "    # Score 0 for Loss, 3 for Draw, 6 for Win\n",
    "    round_score += result_scores[result_str_opts.index(result[i])]\n",
    "    tot_score += round_score\n",
    "\n",
    "print(tot_score)"
   ]
  }
 ],
 "metadata": {
  "kernelspec": {
   "display_name": "Python 3.9.13 ('base')",
   "language": "python",
   "name": "python3"
  },
  "language_info": {
   "codemirror_mode": {
    "name": "ipython",
    "version": 3
   },
   "file_extension": ".py",
   "mimetype": "text/x-python",
   "name": "python",
   "nbconvert_exporter": "python",
   "pygments_lexer": "ipython3",
   "version": "3.9.13"
  },
  "orig_nbformat": 4,
  "vscode": {
   "interpreter": {
    "hash": "f65f94cd6d5e6e785f67f03b9c7364952b2259c12c87232b753fe81c04fd2d32"
   }
  }
 },
 "nbformat": 4,
 "nbformat_minor": 2
}
