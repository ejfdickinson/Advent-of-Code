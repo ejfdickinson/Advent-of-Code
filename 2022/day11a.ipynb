{
 "cells": [
  {
   "cell_type": "code",
   "execution_count": 5,
   "metadata": {},
   "outputs": [],
   "source": [
    "## ADVENT OF CODE 2022, Day 11\n",
    "## Edmund Dickinson, Python implementation\n",
    "\n",
    "# File read\n",
    "input_folder = \"Input/\"\n",
    "input_file = \"day11a.txt\"\n",
    "file_path = input_folder + input_file\n",
    "\n",
    "with open(file_path) as file:\n",
    "    input = file.read()"
   ]
  },
  {
   "cell_type": "code",
   "execution_count": 6,
   "metadata": {},
   "outputs": [],
   "source": [
    "# Class definition: Monkey\n",
    "\n",
    "# Each monkey has several attributes:\n",
    "\n",
    "#     List of items (by order of inspection) and their current worry level\n",
    "#     Operation: change of worry level under inspection\n",
    "#     After operation, new = old // 3\n",
    "#     Test shows how the monkey uses your worry level to decide where to throw an item next.\n",
    "#         If true shows what happens with an item if the Test was true.\n",
    "#         If false shows what happens with an item if the Test was false.\n",
    "\n",
    "class Monkey:\n",
    "    def __init__(self, monkeydef, monkeylist):\n",
    "        self.monkeylist = monkeylist\n",
    "        self.inspectcount = 0\n",
    "\n",
    "        # Process the monkey definition string\n",
    "        # Line 0: Monkey [id]:\n",
    "        # Line 1: Starting items: [items]\n",
    "        # Line 2: Operation: new = old [oper_type] [oper_val]\n",
    "        # Line 3: Test: divisible by [divisor]\n",
    "        # Line 4: If true: throw to monkey [truetarget_id]\n",
    "        # Line 5: If false: throw to monkey [falsetarget_id]\n",
    "\n",
    "        # Comma-separated list of items, trim preamble and split to list\n",
    "        item_str = monkeydef[1].replace(\"Starting items: \",\"\").split(\",\")\n",
    "        self.items = [int(item) for item in item_str]\n",
    "        \n",
    "        self.oper_type = monkeydef[2].split()[-2]\n",
    "        oper_val = monkeydef[2].split()[-1]\n",
    "\n",
    "        # Handle case of squaring, defined as \"old * old\"\n",
    "        if (oper_val == \"old\"):\n",
    "            self.oper_type = \"^\"\n",
    "            # Only allow squaring, oper_val will be ignored\n",
    "            self.oper_val = 0\n",
    "        else:\n",
    "            # Standard multiplication or addition, cast to int\n",
    "            self.oper_val = int(oper_val)\n",
    "\n",
    "        self.divisor = int(monkeydef[3].split()[-1])\n",
    "\n",
    "        self.truetarget_id = int(monkeydef[4].split()[-1])\n",
    "        self.falsetarget_id = int(monkeydef[5].split()[-1])\n",
    "\n",
    "    def inspectAll(self):\n",
    "        # Inspect the current list of items\n",
    "        # Take copy as some items will be removed\n",
    "        for item in self.items.copy():\n",
    "            # Accumulator of inspection count\n",
    "            self.inspectcount += 1\n",
    "            \n",
    "            # Perform operation on worry\n",
    "            if (self.oper_type == \"+\"):\n",
    "                item = item + self.oper_val\n",
    "            elif (self.oper_type == \"*\"):            \n",
    "                item = item * self.oper_val\n",
    "            elif (self.oper_type == \"^\"):\n",
    "                item = item * item\n",
    "\n",
    "            # Divide by 3 and floor\n",
    "            item = item // 3\n",
    "\n",
    "            # Check condition and throw item\n",
    "            if ((item % self.divisor) == 0):\n",
    "                self.throwItem(item, self.monkeylist[self.truetarget_id])\n",
    "            else:\n",
    "                self.throwItem(item, self.monkeylist[self.falsetarget_id])\n",
    "            \n",
    "    def throwItem(self, item, target):\n",
    "        # Throw first item to another monkey:\n",
    "        # Remove first item from throwing monkey\n",
    "        # Add item with new value to receiving monkey\n",
    "        self.items.pop(0)\n",
    "        target.items.append(item)"
   ]
  },
  {
   "cell_type": "code",
   "execution_count": 7,
   "metadata": {},
   "outputs": [],
   "source": [
    "# File parsing\n",
    "# Split each monkey\n",
    "monkey_str = input.split(\"\\n\\n\")\n",
    "monkeys = []\n",
    "\n",
    "for item in monkey_str:\n",
    "    # Assume monkeys are listed in order, so order of monkeys list is same as their ids\n",
    "    # Add a monkey to the list\n",
    "    monkeys.append(Monkey(item.splitlines(), monkeys))"
   ]
  },
  {
   "cell_type": "code",
   "execution_count": 8,
   "metadata": {},
   "outputs": [
    {
     "name": "stdout",
     "output_type": "stream",
     "text": [
      "Level of monkey business: 66124\n"
     ]
    }
   ],
   "source": [
    "# Analysis\n",
    "# Each monkey takes one turn each round\n",
    "num_rounds = 20\n",
    "for round in range(num_rounds):\n",
    "    for monkey in monkeys:\n",
    "        monkey.inspectAll()\n",
    "\n",
    "# Return inspection counts and sort in descending order\n",
    "inspectcounts = [monkey.inspectcount for monkey in monkeys]\n",
    "inspectcounts.sort(reverse = True)\n",
    "\n",
    "monkey_business = (inspectcounts[0] * inspectcounts[1])\n",
    "print(\"Level of monkey business:\", monkey_business)"
   ]
  }
 ],
 "metadata": {
  "kernelspec": {
   "display_name": "Python 3.9.13 ('base')",
   "language": "python",
   "name": "python3"
  },
  "language_info": {
   "codemirror_mode": {
    "name": "ipython",
    "version": 3
   },
   "file_extension": ".py",
   "mimetype": "text/x-python",
   "name": "python",
   "nbconvert_exporter": "python",
   "pygments_lexer": "ipython3",
   "version": "3.9.13"
  },
  "orig_nbformat": 4,
  "vscode": {
   "interpreter": {
    "hash": "f65f94cd6d5e6e785f67f03b9c7364952b2259c12c87232b753fe81c04fd2d32"
   }
  }
 },
 "nbformat": 4,
 "nbformat_minor": 2
}
