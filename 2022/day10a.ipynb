{
 "cells": [
  {
   "cell_type": "code",
   "execution_count": 32,
   "metadata": {},
   "outputs": [],
   "source": [
    "## ADVENT OF CODE 2022, Day 10\n",
    "## Edmund Dickinson, Python implementation\n",
    "\n",
    "# File read\n",
    "input_folder = \"Input/\"\n",
    "input_file = \"day10a.txt\"\n",
    "file_path = input_folder + input_file\n",
    "\n",
    "with open(file_path) as file:\n",
    "    input = file.read().splitlines()"
   ]
  },
  {
   "cell_type": "code",
   "execution_count": 33,
   "metadata": {},
   "outputs": [],
   "source": [
    "# CPU class definition\n",
    "class CPU:\n",
    "    def __init__(self):\n",
    "        self.x = 1\n",
    "        self.PC = 0\n",
    "        self.cycle = 0\n",
    "        self.signal = []\n",
    "    \n",
    "    def doCycle(self, num):\n",
    "        for i in range(num):\n",
    "            self.cycle += 1\n",
    "            # Signal is x value multiplied by cycle number\n",
    "            self.signal.append(self.x * self.cycle)  \n",
    "\n",
    "    def handleInstruction(self, line):\n",
    "        instr = line.split()[0]\n",
    "        if (instr == \"noop\"):\n",
    "            self.doCycle(1)\n",
    "        elif (instr == \"addx\"):\n",
    "            if (len(line.split()) < 2):\n",
    "                raise Exception(\"Missing argument to addx.\")\n",
    "            val = int(line.split()[1])\n",
    "            self.doCycle(2)\n",
    "            self.x += val\n",
    "        else:\n",
    "            raise Exception(\"Unrecognised instruction.\")  "
   ]
  },
  {
   "cell_type": "code",
   "execution_count": 34,
   "metadata": {},
   "outputs": [
    {
     "name": "stdout",
     "output_type": "stream",
     "text": [
      "[340, 1020, 2100, 2380, 3060, 4620]\n",
      "13520\n",
      "240\n"
     ]
    }
   ],
   "source": [
    "# CPU line handling\n",
    "myCPU = CPU()\n",
    "for line in input:\n",
    "    myCPU.handleInstruction(line)\n",
    "\n",
    "idx_out = range(20,221,40)\n",
    "signal_out = []\n",
    "for idx in idx_out:\n",
    "    signal_out.append(myCPU.signal[idx-1])\n",
    "\n",
    "print( signal_out )\n",
    "print( sum(signal_out) )"
   ]
  }
 ],
 "metadata": {
  "kernelspec": {
   "display_name": "Python 3.9.13 ('base')",
   "language": "python",
   "name": "python3"
  },
  "language_info": {
   "codemirror_mode": {
    "name": "ipython",
    "version": 3
   },
   "file_extension": ".py",
   "mimetype": "text/x-python",
   "name": "python",
   "nbconvert_exporter": "python",
   "pygments_lexer": "ipython3",
   "version": "3.9.13"
  },
  "orig_nbformat": 4,
  "vscode": {
   "interpreter": {
    "hash": "f65f94cd6d5e6e785f67f03b9c7364952b2259c12c87232b753fe81c04fd2d32"
   }
  }
 },
 "nbformat": 4,
 "nbformat_minor": 2
}
