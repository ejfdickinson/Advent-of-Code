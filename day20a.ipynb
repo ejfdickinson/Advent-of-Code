{
 "cells": [
  {
   "cell_type": "code",
   "execution_count": 43,
   "metadata": {},
   "outputs": [],
   "source": [
    "## ADVENT OF CODE 2022, Day 20\n",
    "## Edmund Dickinson, Python implementation\n",
    "\n",
    "# File read\n",
    "input_folder = \"Input/\"\n",
    "input_file = \"day20a.txt\"\n",
    "file_path = input_folder + input_file\n",
    "\n",
    "with open(file_path) as file:\n",
    "    input = file.read().splitlines()"
   ]
  },
  {
   "cell_type": "code",
   "execution_count": 44,
   "metadata": {},
   "outputs": [],
   "source": [
    "cipher_origin = { k:int(i) for k,i in enumerate(input) }"
   ]
  },
  {
   "cell_type": "code",
   "execution_count": 45,
   "metadata": {},
   "outputs": [],
   "source": [
    "def decrypt(cipher):\n",
    "    encrypt_length = len(cipher)   \n",
    "    # List of ids corresponding to original keys\n",
    "    id_permutation = list(range(encrypt_length))     \n",
    "    \n",
    "    for i in id_permutation.copy():\n",
    "        idx_old = id_permutation.index(i)\n",
    "        id_permutation.remove(i)\n",
    "\n",
    "        dist = cipher[i]\n",
    "        idx_new_unwrap = (idx_old + dist)\n",
    "        num_wraps = idx_new_unwrap // encrypt_length\n",
    "        # negative for left wraps, positive for right wraps, move one further to account for position swap\n",
    "        idx_new = (idx_new_unwrap % encrypt_length) + num_wraps\n",
    "\n",
    "        id_permutation.insert(idx_new,i)\n",
    "\n",
    "    decrypt_out = [cipher[k] for k in id_permutation]\n",
    "    return decrypt_out"
   ]
  },
  {
   "cell_type": "code",
   "execution_count": 46,
   "metadata": {},
   "outputs": [
    {
     "name": "stdout",
     "output_type": "stream",
     "text": [
      "7395\n"
     ]
    }
   ],
   "source": [
    "cipher_decrypt = decrypt(cipher_origin)\n",
    "idx_zero = cipher_decrypt.index(0)\n",
    "\n",
    "idx_search = [1000, 2000, 3000]\n",
    "sum_search = 0\n",
    "\n",
    "for idx in idx_search:\n",
    "    eval_idx = (idx_zero + idx) % encrypt_length\n",
    "    sum_search += cipher_decrypt[eval_idx]\n",
    "\n",
    "print(sum_search)"
   ]
  }
 ],
 "metadata": {
  "kernelspec": {
   "display_name": "Python 3.9.13 ('base')",
   "language": "python",
   "name": "python3"
  },
  "language_info": {
   "codemirror_mode": {
    "name": "ipython",
    "version": 3
   },
   "file_extension": ".py",
   "mimetype": "text/x-python",
   "name": "python",
   "nbconvert_exporter": "python",
   "pygments_lexer": "ipython3",
   "version": "3.9.13"
  },
  "orig_nbformat": 4,
  "vscode": {
   "interpreter": {
    "hash": "f65f94cd6d5e6e785f67f03b9c7364952b2259c12c87232b753fe81c04fd2d32"
   }
  }
 },
 "nbformat": 4,
 "nbformat_minor": 2
}
