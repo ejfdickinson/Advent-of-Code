{
 "cells": [
  {
   "cell_type": "code",
   "execution_count": 50,
   "metadata": {},
   "outputs": [],
   "source": [
    "## ADVENT OF CODE 2022, Day 8\n",
    "## Edmund Dickinson, Python implementation\n",
    "\n",
    "# File read\n",
    "input_folder = \"Input/\"\n",
    "input_file = \"day8a.txt\"\n",
    "file_path = input_folder + input_file\n",
    "\n",
    "with open(file_path) as file:\n",
    "    input = file.read().splitlines()"
   ]
  },
  {
   "cell_type": "code",
   "execution_count": 51,
   "metadata": {},
   "outputs": [],
   "source": [
    "# File processing\n",
    "# Generate 2D array of ints for heights\n",
    "heights = [[int(i) for i in list(line)] for line in input]"
   ]
  },
  {
   "cell_type": "code",
   "execution_count": 52,
   "metadata": {},
   "outputs": [],
   "source": [
    "def getSightLines(heights, i, j):\n",
    "    # Return a list of the four sightlines\n",
    "    row = heights[i]\n",
    "    col = [k[j] for k in heights]\n",
    "\n",
    "    sight_left = row[:j]\n",
    "    sight_right = row[(j+1):]\n",
    "    sight_up = col[:i]\n",
    "    sight_down = col[(i+1):]\n",
    "\n",
    "    # Reverse left and up so 0 element is always adjacent to tree\n",
    "    sight_left.reverse()\n",
    "    sight_up.reverse()\n",
    "\n",
    "    return [sight_left, sight_right, sight_up, sight_down]"
   ]
  },
  {
   "cell_type": "code",
   "execution_count": 53,
   "metadata": {},
   "outputs": [
    {
     "name": "stdout",
     "output_type": "stream",
     "text": [
      "Number of visible trees: 1851\n",
      "Maximum scenic score: 574080\n"
     ]
    }
   ],
   "source": [
    "# Analysis\n",
    "num_visible_trees = 0\n",
    "max_scenic_score = 0\n",
    "\n",
    "for i, row in enumerate(heights):\n",
    "    for j, tree in enumerate(row):\n",
    "        sightlines = getSightLines(heights, i, j)\n",
    "\n",
    "        # Check if any tree is blocking in each sightline\n",
    "        # Blocked if all sightlines are blocked\n",
    "        blocked = all([any([k >= tree for k in line]) for line in sightlines])\n",
    "        if (not(blocked)):\n",
    "            num_visible_trees += 1\n",
    "\n",
    "        scenic_score = 1\n",
    "        for line in sightlines:\n",
    "            vis_trees = 0\n",
    "            for k in line:\n",
    "                vis_trees += 1\n",
    "                if (k >= tree):\n",
    "                    # Blocking tree, end of sightline\n",
    "                    break\n",
    "            # Scenic score is product of all sightlines\n",
    "            scenic_score *= vis_trees\n",
    "\n",
    "        if (scenic_score > max_scenic_score):\n",
    "            max_scenic_score = scenic_score\n",
    "\n",
    "print(\"Number of visible trees:\", num_visible_trees)\n",
    "print(\"Maximum scenic score:\", max_scenic_score)"
   ]
  }
 ],
 "metadata": {
  "kernelspec": {
   "display_name": "Python 3.9.13 ('base')",
   "language": "python",
   "name": "python3"
  },
  "language_info": {
   "codemirror_mode": {
    "name": "ipython",
    "version": 3
   },
   "file_extension": ".py",
   "mimetype": "text/x-python",
   "name": "python",
   "nbconvert_exporter": "python",
   "pygments_lexer": "ipython3",
   "version": "3.9.13 (main, Aug 25 2022, 23:51:50) [MSC v.1916 64 bit (AMD64)]"
  },
  "orig_nbformat": 4,
  "vscode": {
   "interpreter": {
    "hash": "f65f94cd6d5e6e785f67f03b9c7364952b2259c12c87232b753fe81c04fd2d32"
   }
  }
 },
 "nbformat": 4,
 "nbformat_minor": 2
}
