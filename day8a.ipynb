{
 "cells": [
  {
   "cell_type": "code",
   "execution_count": 43,
   "metadata": {},
   "outputs": [],
   "source": [
    "## ADVENT OF CODE 2022, Day 8\n",
    "## Edmund Dickinson, Python implementation\n",
    "\n",
    "# File read\n",
    "input_folder = \"Input/\"\n",
    "input_file = \"day8a.txt\"\n",
    "file_path = input_folder + input_file\n",
    "\n",
    "with open(file_path) as file:\n",
    "    input = file.read().splitlines()"
   ]
  },
  {
   "cell_type": "code",
   "execution_count": 44,
   "metadata": {},
   "outputs": [],
   "source": [
    "# File processing\n",
    "# Generate 2D array of ints for heights\n",
    "heights = [[int(i) for i in list(line)] for line in input]"
   ]
  },
  {
   "cell_type": "code",
   "execution_count": 45,
   "metadata": {},
   "outputs": [],
   "source": [
    "def isVisible(heights, i, j):\n",
    "    # Function to determine if tree at row i and col j in 2D array heights is visible\n",
    "    this_tree = heights[i][j]\n",
    "\n",
    "    row_heights = heights[i]\n",
    "    col_heights = [k[j] for k in heights]\n",
    "\n",
    "    # Test left\n",
    "    is_blocked_left = any ([k >= this_tree for k in row_heights[:j]])\n",
    "    # Test right\n",
    "    is_blocked_right = any ([k >= this_tree for k in row_heights[(j+1):]])\n",
    "        \n",
    "    # Test up\n",
    "    is_blocked_up = any ([k >= this_tree for k in col_heights[:i]])\n",
    "    # Test down\n",
    "    is_blocked_down = any ([k >= this_tree for k in col_heights[(i+1):]])\n",
    "\n",
    "    # Test for visibility from any cardinal direction\n",
    "    if(is_blocked_left and is_blocked_right and is_blocked_up and is_blocked_down):\n",
    "        return False\n",
    "    else:\n",
    "        return True"
   ]
  },
  {
   "cell_type": "code",
   "execution_count": 46,
   "metadata": {},
   "outputs": [
    {
     "name": "stdout",
     "output_type": "stream",
     "text": [
      "Number of visible trees: 1851\n"
     ]
    }
   ],
   "source": [
    "# Analysis\n",
    "num_visible_trees = 0\n",
    "\n",
    "for i, row in enumerate(heights):\n",
    "    for j, tree in enumerate(row):\n",
    "        if( isVisible(heights, i, j) ):\n",
    "            num_visible_trees += 1\n",
    "\n",
    "print(\"Number of visible trees:\", num_visible_trees)"
   ]
  }
 ],
 "metadata": {
  "kernelspec": {
   "display_name": "Python 3.9.13 ('base')",
   "language": "python",
   "name": "python3"
  },
  "language_info": {
   "codemirror_mode": {
    "name": "ipython",
    "version": 3
   },
   "file_extension": ".py",
   "mimetype": "text/x-python",
   "name": "python",
   "nbconvert_exporter": "python",
   "pygments_lexer": "ipython3",
   "version": "3.9.13"
  },
  "orig_nbformat": 4,
  "vscode": {
   "interpreter": {
    "hash": "f65f94cd6d5e6e785f67f03b9c7364952b2259c12c87232b753fe81c04fd2d32"
   }
  }
 },
 "nbformat": 4,
 "nbformat_minor": 2
}
