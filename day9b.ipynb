{
 "cells": [
  {
   "cell_type": "code",
   "execution_count": 78,
   "metadata": {},
   "outputs": [],
   "source": [
    "## ADVENT OF CODE 2022, Day 9\n",
    "## Edmund Dickinson, Python implementation\n",
    "\n",
    "# File read\n",
    "input_folder = \"Input/\"\n",
    "input_file = \"day9a.txt\"\n",
    "file_path = input_folder + input_file\n",
    "\n",
    "with open(file_path) as file:\n",
    "    input = file.read().splitlines()"
   ]
  },
  {
   "cell_type": "code",
   "execution_count": 79,
   "metadata": {},
   "outputs": [],
   "source": [
    "# File processing\n",
    "# List of tuples: (direction, magnitude)\n",
    "move_vec_directional = [(line.split()[0], int(line.split()[1])) for line in input]\n",
    "\n",
    "# Base vectors\n",
    "base_vec = { 'L': [-1, 0],\n",
    "             'R': [+1, 0],\n",
    "             'D': [0, -1],\n",
    "             'U': [0, +1] }\n",
    "\n",
    "# Vector motions\n",
    "move_vec = [[i*magnitude for i in base_vec[direction]] for (direction,magnitude) in move_vec_directional]"
   ]
  },
  {
   "cell_type": "code",
   "execution_count": 80,
   "metadata": {},
   "outputs": [
    {
     "name": "stdout",
     "output_type": "stream",
     "text": [
      "Number of tail positions visited: 2593\n"
     ]
    }
   ],
   "source": [
    "# Analysis\n",
    "def sign(x):\n",
    "    # Simple sign() function for int type\n",
    "    if(x > 0):\n",
    "        return 1\n",
    "    elif(x < 0):\n",
    "        return -1\n",
    "    else:\n",
    "        return 0\n",
    "\n",
    "def getTailMove(head_pos, tail_pos):\n",
    "    # Determine the tail motion depending on relative positions\n",
    "    # Unpack vectors\n",
    "    xhead, yhead = head_pos\n",
    "    xtail, ytail = tail_pos\n",
    "    \n",
    "    # Find the relative position of the head with respect to the tail\n",
    "    dx = xhead - xtail        \n",
    "    dy = yhead - ytail        \n",
    "\n",
    "    if(dx == 0):\n",
    "        # Vertically aligned\n",
    "        if (abs(dy) == 2):\n",
    "            # Gap of two spaces\n",
    "            return[0,sign(dy)]\n",
    "    elif(dy ==0):\n",
    "        # Horizontally aligned\n",
    "        if (abs(dx) == 2):\n",
    "            # Gap of two spaces\n",
    "            return[sign(dx),0]\n",
    "    elif(abs(dx)+abs(dy) > 2):\n",
    "        # Diagonally aligned but not diagonally adjacent\n",
    "        return[sign(dx),sign(dy)]\n",
    "    \n",
    "    # All other cases\n",
    "    return [0,0]\n",
    "\n",
    "\n",
    "# Knot positions as vectors, initially at origin\n",
    "n_knots = 10\n",
    "knot_pos = [[0,0] for i in range(n_knots)]\n",
    "\n",
    "# Record all visited tail positions as a set of coordinates (prevents duplicate counting)\n",
    "# Each coordinate is a tuple entry in the set\n",
    "tail_visited = set()\n",
    "tail_visited.add(tuple(knot_pos[-1]))\n",
    "\n",
    "for move in move_vec:\n",
    "    # Process the move vector\n",
    "    # All moves have a defined direction and a number of steps\n",
    "    # Find the number of steps and normalise the displacement of one step\n",
    "    n_steps = max([abs(i) for i in move])\n",
    "    move_step = [(i // n_steps) for i in move]\n",
    "    \n",
    "    for i in range(n_steps):\n",
    "        # Move head\n",
    "        knot_pos[0] = [x+y for x,y in zip(knot_pos[0], move_step)]\n",
    "\n",
    "        for i, knot in enumerate(knot_pos[1:]):\n",
    "            # Get the relative head\n",
    "            prev_knot = knot_pos[i]\n",
    "            # Move the relative tail\n",
    "            knot_pos[i+1] = [x+y for x,y in zip(knot, getTailMove(prev_knot, knot))]\n",
    "        \n",
    "        # Add the current tail position to the visited list\n",
    "        tail_visited.add(tuple(knot_pos[-1]))\n",
    "\n",
    "print(\"Number of tail positions visited:\", len(tail_visited))"
   ]
  }
 ],
 "metadata": {
  "kernelspec": {
   "display_name": "Python 3.9.13 ('base')",
   "language": "python",
   "name": "python3"
  },
  "language_info": {
   "codemirror_mode": {
    "name": "ipython",
    "version": 3
   },
   "file_extension": ".py",
   "mimetype": "text/x-python",
   "name": "python",
   "nbconvert_exporter": "python",
   "pygments_lexer": "ipython3",
   "version": "3.9.13"
  },
  "orig_nbformat": 4,
  "vscode": {
   "interpreter": {
    "hash": "f65f94cd6d5e6e785f67f03b9c7364952b2259c12c87232b753fe81c04fd2d32"
   }
  }
 },
 "nbformat": 4,
 "nbformat_minor": 2
}
