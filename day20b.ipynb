{
 "cells": [
  {
   "cell_type": "code",
   "execution_count": 101,
   "metadata": {},
   "outputs": [],
   "source": [
    "## ADVENT OF CODE 2022, Day 20\n",
    "## Edmund Dickinson, Python implementation\n",
    "\n",
    "# File read\n",
    "input_folder = \"Input/\"\n",
    "input_file = \"day20a.txt\"\n",
    "file_path = input_folder + input_file\n",
    "\n",
    "with open(file_path) as file:\n",
    "    input = file.read().splitlines()"
   ]
  },
  {
   "cell_type": "code",
   "execution_count": 102,
   "metadata": {},
   "outputs": [],
   "source": [
    "cipher_origin = { k:int(i) for k,i in enumerate(input) }"
   ]
  },
  {
   "cell_type": "code",
   "execution_count": 103,
   "metadata": {},
   "outputs": [],
   "source": [
    "def decrypt(cipher, key=1, repeats=1):\n",
    "    encrypt_length = len(cipher)   \n",
    "    # List of ids corresponding to original keys\n",
    "    id_permutation = list(range(encrypt_length))     \n",
    "    idx_list = id_permutation.copy()\n",
    "\n",
    "    for j in range(repeats):\n",
    "        for i in idx_list:\n",
    "            idx_old = id_permutation.index(i)\n",
    "            id_permutation.remove(i)\n",
    "\n",
    "            dist = cipher[i] * key\n",
    "            idx_new_unwrap = (idx_old + dist)\n",
    "            num_wraps = idx_new_unwrap // encrypt_length\n",
    "            # negative for left wraps, positive for right wraps, move one further each time to account for position swap\n",
    "            idx_new = ((idx_new_unwrap + num_wraps) % encrypt_length)\n",
    "            # TODO(ED): fix above - apparently correct  for num_wraps <= 2 but not for large values of key with multiple wraps\n",
    "\n",
    "            id_permutation.insert(idx_new,i)\n",
    "\n",
    "    decrypt_out = [cipher[k] * key for k in id_permutation]\n",
    "    return decrypt_out\n",
    "\n",
    "def getCoordSum(cipher, idx_search):\n",
    "    idx_zero = cipher.index(0)\n",
    "    sum_search = 0\n",
    "\n",
    "    for idx in idx_search:\n",
    "        eval_idx = (idx_zero + idx) % len(cipher)\n",
    "        sum_search += cipher[eval_idx]    \n",
    "\n",
    "    return sum_search"
   ]
  },
  {
   "cell_type": "code",
   "execution_count": 104,
   "metadata": {},
   "outputs": [
    {
     "name": "stdout",
     "output_type": "stream",
     "text": [
      "7395\n"
     ]
    }
   ],
   "source": [
    "idx_search = [1000, 2000, 3000]\n",
    "decrypt_key = 811589153\n",
    "\n",
    "print( getCoordSum(decrypt(cipher_origin), idx_search) )\n",
    "#print( getCoordSum(decrypt(cipher_origin, key=decrypt_key, repeats=10), idx_search) )"
   ]
  }
 ],
 "metadata": {
  "kernelspec": {
   "display_name": "Python 3.9.13 ('base')",
   "language": "python",
   "name": "python3"
  },
  "language_info": {
   "codemirror_mode": {
    "name": "ipython",
    "version": 3
   },
   "file_extension": ".py",
   "mimetype": "text/x-python",
   "name": "python",
   "nbconvert_exporter": "python",
   "pygments_lexer": "ipython3",
   "version": "3.9.13"
  },
  "orig_nbformat": 4,
  "vscode": {
   "interpreter": {
    "hash": "f65f94cd6d5e6e785f67f03b9c7364952b2259c12c87232b753fe81c04fd2d32"
   }
  }
 },
 "nbformat": 4,
 "nbformat_minor": 2
}
