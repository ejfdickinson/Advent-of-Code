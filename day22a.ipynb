{
 "cells": [
  {
   "cell_type": "code",
   "execution_count": 69,
   "metadata": {},
   "outputs": [],
   "source": [
    "## ADVENT OF CODE 2022, Day 22\n",
    "## Edmund Dickinson, Python implementation\n",
    "\n",
    "# File read\n",
    "input_folder = \"Input/\"\n",
    "input_file = \"day22_test.txt\"\n",
    "file_path = input_folder + input_file\n",
    "\n",
    "with open(file_path) as file:\n",
    "    data = file.read()"
   ]
  },
  {
   "cell_type": "code",
   "execution_count": 70,
   "metadata": {},
   "outputs": [],
   "source": [
    "def parse_map(input):\n",
    "    data = {}   \n",
    "    rows = input.splitlines()\n",
    "\n",
    "    data[\"ymax\"] = len(rows)-1\n",
    "    data[\"xmax\"] = max([len(row) for row in rows])-1\n",
    "\n",
    "    for k,row in enumerate(rows):\n",
    "        y = data[\"ymax\"]-k\n",
    "        for x in range(data[\"xmax\"]+1):\n",
    "            if(x > len(row)-1):\n",
    "                data[(x,y)] = \" \"\n",
    "            else:\n",
    "                data[(x,y)] = row[x]         \n",
    "\n",
    "    return data\n",
    "\n",
    "def parse_path(input):\n",
    "    str = list(input)\n",
    "\n",
    "    num_buffer = []\n",
    "    steps = []\n",
    "    turns = []\n",
    "\n",
    "    while ( len(str) > 0 ):\n",
    "        char = str.pop(0)\n",
    "\n",
    "        if (char == 'L' or char == 'R'):\n",
    "            steps.append(int(\"\".join(num_buffer)))\n",
    "            turns.append(char)\n",
    "            num_buffer = []\n",
    "        else:\n",
    "            num_buffer.append(char)\n",
    "        \n",
    "    if ( len(num_buffer) > 0 ):\n",
    "        steps.append(int(\"\".join(num_buffer)))\n",
    "    \n",
    "    return steps, turns"
   ]
  },
  {
   "cell_type": "code",
   "execution_count": 71,
   "metadata": {},
   "outputs": [],
   "source": [
    "map_data, path_data = data.split(\"\\n\\n\")\n",
    "\n",
    "field = parse_map(map_data)\n",
    "steps, turns = parse_path(path_data)"
   ]
  },
  {
   "cell_type": "code",
   "execution_count": 72,
   "metadata": {},
   "outputs": [],
   "source": [
    "def rotate(facing, turn):\n",
    "    i,j = facing\n",
    "\n",
    "    if (turn == \"L\"):\n",
    "        mult = [-1,1]\n",
    "    elif (turn == \"R\"):\n",
    "        mult = [1,-1]\n",
    "    else:\n",
    "        assert False\n",
    "\n",
    "    return (j*mult[0],i*mult[1])\n",
    "\n",
    "def advance(field, coord, steps, facing):\n",
    "    i,j = facing\n",
    "    x1,y1 = coord\n",
    "\n",
    "    if (j == 0):\n",
    "        y2 = y1\n",
    "        x2 = advance_on_path(getRow(field,y), x1, steps)\n",
    "    elif (i == 0):\n",
    "        x2 = x1\n",
    "        y2 = advance_on_path(getCol(field,x), y1, steps)\n",
    "    else:\n",
    "        assert False\n",
    "\n",
    "    return (x2, y2)\n",
    "\n",
    "def advance_on_path(path, init, steps):\n",
    "    # Count white space left of initial position and discard\n",
    "    leading_space = path[:init].count()\n",
    "    trim_path = path.strip()\n",
    "    pos = init - leading_space\n",
    "\n",
    "    while (steps > 0):\n",
    "        new_pos = pos+1\n",
    "\n",
    "        # Overflow conditions\n",
    "        steps -= 1\n",
    "\n",
    "    return (pos + leading_space)"
   ]
  },
  {
   "cell_type": "code",
   "execution_count": 73,
   "metadata": {},
   "outputs": [
    {
     "name": "stdout",
     "output_type": "stream",
     "text": [
      "(0, -1)\n",
      "(-1, 0)\n",
      "(0, 1)\n",
      "(1, 0)\n"
     ]
    }
   ],
   "source": [
    "coord = (0,0)\n",
    "facing = (1,0)\n",
    "\n",
    "for k,step in steps:\n",
    "    # Perform movement\n",
    "    coord = advance(field, coord, steps, facing)\n",
    "\n",
    "    # Rotate facing\n",
    "    if (k < len(turns)):\n",
    "        facing = rotate(facing,turns[k])"
   ]
  }
 ],
 "metadata": {
  "kernelspec": {
   "display_name": "Python 3.9.13 ('base')",
   "language": "python",
   "name": "python3"
  },
  "language_info": {
   "codemirror_mode": {
    "name": "ipython",
    "version": 3
   },
   "file_extension": ".py",
   "mimetype": "text/x-python",
   "name": "python",
   "nbconvert_exporter": "python",
   "pygments_lexer": "ipython3",
   "version": "3.9.13"
  },
  "orig_nbformat": 4,
  "vscode": {
   "interpreter": {
    "hash": "f65f94cd6d5e6e785f67f03b9c7364952b2259c12c87232b753fe81c04fd2d32"
   }
  }
 },
 "nbformat": 4,
 "nbformat_minor": 2
}
