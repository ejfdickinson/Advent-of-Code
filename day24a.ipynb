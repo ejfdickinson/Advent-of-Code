{
 "cells": [
  {
   "cell_type": "code",
   "execution_count": null,
   "metadata": {},
   "outputs": [],
   "source": [
    "## ADVENT OF CODE 2022, Day 24\n",
    "## Edmund Dickinson, Python implementation\n",
    "\n",
    "# File read\n",
    "input_folder = \"Input/\"\n",
    "input_file = \"day24_test.txt\"\n",
    "file_path = input_folder + input_file\n",
    "\n",
    "with open(file_path) as file:\n",
    "    input = file.read().splitlines()"
   ]
  },
  {
   "cell_type": "code",
   "execution_count": null,
   "metadata": {},
   "outputs": [],
   "source": [
    "size_x = len(input[0])\n",
    "size_y = len(input)\n",
    "\n",
    "x0,y0 = input[0].find('.'),0\n",
    "xgoal,ygoal = input[-1].find('.'),size_y-1\n",
    "\n",
    "blizzard_pos = []\n",
    "blizzard_dir = []\n",
    "\n",
    "for y,line in enumerate(input):\n",
    "    for x,char in enumerate(line):\n",
    "        if(char != '.' and char != '#'):\n",
    "            blizzard_pos.append((x,y))\n",
    "            blizzard_dir.append(char)\n",
    "\n",
    "blizzards = zip(blizzard_pos, blizzard_dir)"
   ]
  },
  {
   "cell_type": "code",
   "execution_count": null,
   "metadata": {},
   "outputs": [],
   "source": [
    "def update_blizzards(blizzards, size_x, size_y):\n",
    "    for blizzard in blizzards:\n",
    "        pos, dir = blizzard\n",
    "        x0,y0 = pos\n",
    "        x1 = x0\n",
    "        y1 = y0\n",
    "\n",
    "        if(dir == '<'):\n",
    "            x1 -= 1\n",
    "        if(dir == '>'):\n",
    "            x1 += 1\n",
    "        if(dir == '^'):\n",
    "            y1 -= 1\n",
    "        if(dir == 'v'):\n",
    "            y1 += 1\n",
    "        \n",
    "        # Wrapping\n",
    "        if(x1 == 0):\n",
    "            x1 = size_x - 2\n",
    "        if(x1 == size_x-1):\n",
    "            x1 = 1\n",
    "        if(y1 == 0):\n",
    "            y1 = size_y - 2\n",
    "        if(y1 == size_y-1):\n",
    "            y1 = 1\n",
    "\n",
    "        blizzard = (x1,y1),dir"
   ]
  }
 ],
 "metadata": {
  "kernelspec": {
   "display_name": "Python 3.9.13 ('base')",
   "language": "python",
   "name": "python3"
  },
  "language_info": {
   "codemirror_mode": {
    "name": "ipython",
    "version": 3
   },
   "file_extension": ".py",
   "mimetype": "text/x-python",
   "name": "python",
   "nbconvert_exporter": "python",
   "pygments_lexer": "ipython3",
   "version": "3.9.13 (main, Aug 25 2022, 23:51:50) [MSC v.1916 64 bit (AMD64)]"
  },
  "orig_nbformat": 4,
  "vscode": {
   "interpreter": {
    "hash": "f65f94cd6d5e6e785f67f03b9c7364952b2259c12c87232b753fe81c04fd2d32"
   }
  }
 },
 "nbformat": 4,
 "nbformat_minor": 2
}
