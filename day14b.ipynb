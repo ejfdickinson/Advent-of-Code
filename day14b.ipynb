{
 "cells": [
  {
   "cell_type": "code",
   "execution_count": 80,
   "metadata": {},
   "outputs": [],
   "source": [
    "## ADVENT OF CODE 2022, Day 14\n",
    "## Edmund Dickinson, Python implementation\n",
    "\n",
    "# File read\n",
    "input_folder = \"Input/\"\n",
    "input_file = \"day14a.txt\"\n",
    "file_path = input_folder + input_file\n",
    "\n",
    "with open(file_path) as file:\n",
    "    input = file.read().splitlines()\n"
   ]
  },
  {
   "cell_type": "code",
   "execution_count": 81,
   "metadata": {},
   "outputs": [],
   "source": [
    "# Create list of linked (x,y) coordinates, map reference 500 to 0\n",
    "rock_structs = [[(\n",
    "                    int(j.split(',')[0]) - 500,\n",
    "                    int(j.split(',')[1])\n",
    "                )\n",
    "                for j in line.split(\" -> \")]\n",
    "                for line in input]\n",
    "\n",
    "# Define ranges of space, max x-range is set diagonally from limits of the structs\n",
    "ymax = +1 + max(y for x,y in [coord for struct in rock_structs for coord in struct])\n",
    "ymin = 0\n",
    "xmax = +(ymax-ymin) + max(x for x,y in [coord for struct in rock_structs for coord in struct])\n",
    "xmin = -(ymax-ymin) + min(x for x,y in [coord for struct in rock_structs for coord in struct])\n",
    "\n",
    "# Define point grid where . = empty space\n",
    "grid = {}\n",
    "for y in range(ymin,ymax+1):\n",
    "    for x in range(xmin,xmax+1):\n",
    "        grid[(x,y)] = '.'\n",
    "\n",
    "def printGrid():\n",
    "    for y in range(ymin,ymax+1):\n",
    "        row = []\n",
    "        for x in range(xmin,xmax+1):\n",
    "            row.append(grid[(x,y)])\n",
    "        print(\"\".join(row))\n",
    "\n",
    "# Add rocks\n",
    "for struct in rock_structs:\n",
    "    # n coords means (n-1) traversals, pop the first coord and then loop over all links\n",
    "    xstart, ystart = struct.pop(0)    \n",
    "    for coord in struct:            \n",
    "        xend,yend = coord\n",
    "\n",
    "        for yval in range(min(ystart, yend), max(ystart, yend)+1):\n",
    "            for xval in range(min(xstart, xend), max(xstart, xend)+1):\n",
    "                grid[(xval,yval)] = '#'\n",
    "\n",
    "        xstart, ystart = coord"
   ]
  },
  {
   "cell_type": "code",
   "execution_count": 82,
   "metadata": {},
   "outputs": [],
   "source": [
    "def sandFall(floor=False):\n",
    "    # Return 0 if sand blocks\n",
    "    # Return 1 if sand in free fall (floor=False)\n",
    "    # Return 1 if sand blocks at entry (floor=True)\n",
    "    coord = (0,0)\n",
    "    \n",
    "    for y in range(ymax):\n",
    "        new_coord = advanceStep(coord)\n",
    "        if(new_coord == coord):\n",
    "            # Has blocked, set rested sand at final location\n",
    "            grid[coord] = 'o'\n",
    "\n",
    "            if (coord == (0,0)):\n",
    "                if(floor == True):\n",
    "                    # End condition in presence of floor\n",
    "                    return True\n",
    "            \n",
    "            return False\n",
    "        coord = new_coord\n",
    "\n",
    "    # If hasn't blocked by here, can advance to y == ymax, has entered free fall if no floor\n",
    "    if(floor == True):\n",
    "        grid[coord] = 'o'\n",
    "        return False\n",
    "    else:\n",
    "        return True\n",
    "\n",
    "def isBlocked(coord):\n",
    "    return (grid[coord] != '.')\n",
    "\n",
    "def advanceStep(coord):\n",
    "    x,y = coord\n",
    "\n",
    "    # Test lower coordinates by priority\n",
    "    candidates = [(x,y+1),\n",
    "                  (x-1,y+1),\n",
    "                  (x+1,y+1)]\n",
    "    \n",
    "    for test_coord in candidates:\n",
    "        if (not (isBlocked(test_coord))):\n",
    "            return test_coord\n",
    "    \n",
    "    # Else no further fall, return final coordinate\n",
    "    return coord"
   ]
  },
  {
   "cell_type": "code",
   "execution_count": 83,
   "metadata": {},
   "outputs": [
    {
     "name": "stdout",
     "output_type": "stream",
     "text": [
      "Number of resting grains: 964\n"
     ]
    }
   ],
   "source": [
    "# Puzzle 1 (no floor)\n",
    "while ( sandFall() == False ):\n",
    "    None\n",
    "\n",
    "print(\"Number of resting grains:\", list(grid.values()).count('o'))\n",
    "#printGrid()"
   ]
  },
  {
   "cell_type": "code",
   "execution_count": 84,
   "metadata": {},
   "outputs": [
    {
     "name": "stdout",
     "output_type": "stream",
     "text": [
      "Number of resting grains (with floor): 32041\n"
     ]
    }
   ],
   "source": [
    "# Puzzle 2 (floor)\n",
    "# Clear sand\n",
    "for k in grid:\n",
    "    if grid[k] == 'o':\n",
    "        grid[k] = '.'\n",
    "\n",
    "while ( sandFall(floor=True) == False ):\n",
    "    None\n",
    "\n",
    "print(\"Number of resting grains (with floor):\", list(grid.values()).count('o'))\n",
    "#printGrid()"
   ]
  }
 ],
 "metadata": {
  "kernelspec": {
   "display_name": "Python 3.9.13 ('base')",
   "language": "python",
   "name": "python3"
  },
  "language_info": {
   "codemirror_mode": {
    "name": "ipython",
    "version": 3
   },
   "file_extension": ".py",
   "mimetype": "text/x-python",
   "name": "python",
   "nbconvert_exporter": "python",
   "pygments_lexer": "ipython3",
   "version": "3.9.13"
  },
  "orig_nbformat": 4,
  "vscode": {
   "interpreter": {
    "hash": "f65f94cd6d5e6e785f67f03b9c7364952b2259c12c87232b753fe81c04fd2d32"
   }
  }
 },
 "nbformat": 4,
 "nbformat_minor": 2
}
